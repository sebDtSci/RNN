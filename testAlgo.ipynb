{
 "cells": [
  {
   "cell_type": "code",
   "execution_count": 1,
   "metadata": {},
   "outputs": [],
   "source": [
    "from src.Utils.tensorialAlgebra import *\n",
    "from src.Utils.probability import *"
   ]
  },
  {
   "cell_type": "code",
   "execution_count": 2,
   "metadata": {},
   "outputs": [
    {
     "name": "stdout",
     "output_type": "stream",
     "text": [
      "[[0.24004777272542316, 0.13868490854899088], [0.18461386362711588, 0.25597413380940753], [0.01908143361409505, 0.14168262481689453], [-0.21833578745524088, -0.06687641143798828], [0.1758114496866862, -0.02728621164957682], [0.0807968775431315, 0.05201180775960286], [0.08518060048421223, -0.05144913991292317], [0.22352377573649088, -0.13983885447184244], [0.12114683787027994, 0.09765148162841797], [0.02372582753499349, -0.07476647694905598]] [0.8755731582641602, 0.3585386276245117]\n"
     ]
    }
   ],
   "source": [
    "\n",
    "w = random_tensor(10,2,init= 'Xavier')\n",
    "b = random_tensor(2,init='Xavier')\n",
    "print(w,b)"
   ]
  },
  {
   "cell_type": "code",
   "execution_count": 3,
   "metadata": {},
   "outputs": [
    {
     "name": "stdout",
     "output_type": "stream",
     "text": [
      "0\n",
      "0.8755731582641602\n",
      "1\n",
      "0.3585386276245117\n"
     ]
    }
   ],
   "source": [
    "for o in range(2):\n",
    "    print(o)\n",
    "    print( b[o] )"
   ]
  },
  {
   "cell_type": "code",
   "execution_count": 4,
   "metadata": {},
   "outputs": [
    {
     "data": {
      "text/plain": [
       "[3.5534207026163735, 2.7166255315144854]"
      ]
     },
     "execution_count": 4,
     "metadata": {},
     "output_type": "execute_result"
    }
   ],
   "source": [
    "[dot([10,2], w[o]) + b[o] for o in range(2)]"
   ]
  },
  {
   "cell_type": "code",
   "execution_count": 6,
   "metadata": {},
   "outputs": [
    {
     "data": {
      "text/plain": [
       "[[[0.44848171275237025,\n",
       "   0.06062872743138936,\n",
       "   0.06547148982575324,\n",
       "   0.1428208859303305],\n",
       "  [0.344916027004884,\n",
       "   0.5487815647540312,\n",
       "   0.6525872360511433,\n",
       "   0.1309130581623298],\n",
       "  [0.6101829485685272,\n",
       "   0.044068638856124887,\n",
       "   0.04683809640363634,\n",
       "   0.3027806405113985]],\n",
       " [[0.4686936180429315,\n",
       "   0.2973517906135298,\n",
       "   0.5410044997294524,\n",
       "   0.07856597496085171],\n",
       "  [0.19390651132133585,\n",
       "   0.15699882895444894,\n",
       "   0.12703855091287897,\n",
       "   0.36016371177096873],\n",
       "  [0.8168393770417147,\n",
       "   0.3327894127472325,\n",
       "   0.7493722154361873,\n",
       "   0.1549413028796467]]]"
      ]
     },
     "execution_count": 6,
     "metadata": {},
     "output_type": "execute_result"
    }
   ],
   "source": [
    "random_uniform(2, 3, 4)"
   ]
  },
  {
   "cell_type": "code",
   "execution_count": 5,
   "metadata": {},
   "outputs": [
    {
     "data": {
      "text/plain": [
       "(2, 3)"
      ]
     },
     "execution_count": 5,
     "metadata": {},
     "output_type": "execute_result"
    }
   ],
   "source": [
    "shape(random_uniform(2, 3, 4))"
   ]
  },
  {
   "cell_type": "code",
   "execution_count": null,
   "metadata": {},
   "outputs": [],
   "source": []
  },
  {
   "cell_type": "code",
   "execution_count": 11,
   "metadata": {},
   "outputs": [],
   "source": [
    "vowels = ['a','e','i','o','u']\n",
    "kev_mem: list[str] = []\n",
    "stuart_mem: list[str] = []"
   ]
  },
  {
   "cell_type": "code",
   "execution_count": 28,
   "metadata": {},
   "outputs": [],
   "source": [
    "def minion_game(string:str)->str:\n",
    "    kev = 0\n",
    "    stuart = 0\n",
    "    for i, letter in enumerate(string):\n",
    "        if letter in vowels and letter not in kev_mem:\n",
    "            kev_mem.append(letter)\n",
    "            kev += len(string) - i\n",
    "            string[i+i]\n",
    "        elif letter not in stuart_mem:\n",
    "            stuart_mem.append(letter)\n",
    "            stuart += len(string) - i\n",
    "    if kev > stuart:\n",
    "        print('Kevin', kev)\n",
    "    elif kev < stuart:\n",
    "        print('Stuart', stuart)\n",
    "    else:\n",
    "        print('Draw')"
   ]
  },
  {
   "cell_type": "code",
   "execution_count": 29,
   "metadata": {},
   "outputs": [
    {
     "name": "stdout",
     "output_type": "stream",
     "text": [
      "Draw\n"
     ]
    }
   ],
   "source": [
    "minion_game('banana')"
   ]
  },
  {
   "cell_type": "code",
   "execution_count": 34,
   "metadata": {},
   "outputs": [
    {
     "name": "stdout",
     "output_type": "stream",
     "text": [
      "stu:  B\n",
      "5\n",
      "A\n",
      "stu:  N\n",
      "8\n",
      "A\n",
      "stu:  N\n",
      "9\n",
      "A\n",
      "Stuart 12\n"
     ]
    }
   ],
   "source": [
    "def minion_game(string):\n",
    "    vowels = 'AEIOU'\n",
    "    kevin_score = 0\n",
    "    stuart_score = 0\n",
    "    length = len(string)\n",
    "\n",
    "    for i in range(length):\n",
    "        if string[i] in vowels:\n",
    "            kevin_score += length - i\n",
    "            print(kevin_score)\n",
    "            print(string[i])\n",
    "        else:\n",
    "            stuart_score += length - i\n",
    "            print('stu: ',string[i])\n",
    "\n",
    "    if kevin_score > stuart_score:\n",
    "        print(f\"Kevin {kevin_score}\")\n",
    "    elif stuart_score > kevin_score:\n",
    "        print(f\"Stuart {stuart_score}\")\n",
    "    else:\n",
    "        print(\"Draw\")\n",
    "\n",
    "# Example usage\n",
    "minion_game('BANANA')"
   ]
  },
  {
   "cell_type": "code",
   "execution_count": 41,
   "metadata": {},
   "outputs": [
    {
     "data": {
      "text/plain": [
       "'hELLO wORLD'"
      ]
     },
     "execution_count": 41,
     "metadata": {},
     "output_type": "execute_result"
    }
   ],
   "source": [
    "def swap_case(s):\n",
    "    new:list[str] = []\n",
    "    for letter in s:\n",
    "        if letter.isupper():\n",
    "            new.append(letter.lower())\n",
    "        else:\n",
    "            new.append(letter.upper())\n",
    "            \n",
    "    return ''.join(new)\n",
    "\n",
    "swap_case('Hello World')"
   ]
  },
  {
   "cell_type": "code",
   "execution_count": 47,
   "metadata": {},
   "outputs": [
    {
     "name": "stdout",
     "output_type": "stream",
     "text": [
      "this-is-a-string\n"
     ]
    }
   ],
   "source": [
    "def split_and_join(line):\n",
    "    sp = line.split(' ')\n",
    "    return '-'.join(sp)\n",
    "\n",
    "print(split_and_join('this is a string'))"
   ]
  },
  {
   "cell_type": "code",
   "execution_count": null,
   "metadata": {},
   "outputs": [],
   "source": []
  }
 ],
 "metadata": {
  "kernelspec": {
   "display_name": "my_cpp_env",
   "language": "python",
   "name": "python3"
  },
  "language_info": {
   "codemirror_mode": {
    "name": "ipython",
    "version": 3
   },
   "file_extension": ".py",
   "mimetype": "text/x-python",
   "name": "python",
   "nbconvert_exporter": "python",
   "pygments_lexer": "ipython3",
   "version": "3.12.3"
  }
 },
 "nbformat": 4,
 "nbformat_minor": 2
}
