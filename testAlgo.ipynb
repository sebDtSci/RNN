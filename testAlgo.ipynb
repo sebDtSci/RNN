{
 "cells": [
  {
   "cell_type": "code",
   "execution_count": 1,
   "metadata": {},
   "outputs": [],
   "source": [
    "from tensorialAlgebra import random_tensor, dot"
   ]
  },
  {
   "cell_type": "code",
   "execution_count": 2,
   "metadata": {},
   "outputs": [
    {
     "name": "stdout",
     "output_type": "stream",
     "text": [
      "[[0.018960634867350258, -0.03136475880940755], [-0.03291606903076172, 0.026907920837402344], [-0.07703940073649088, 0.09888490041097005], [-0.0817728042602539, -0.3195365269978841], [0.0027227401733398438, -0.18683910369873047], [-0.3030888239542643, 0.2821811040242513], [-0.21597067515055338, -0.03117084503173828], [-0.027874310811360676, 0.24691104888916016], [0.23318767547607422, 0.17887910207112628], [-0.33040841420491535, -0.10289986928304036]] [0.23261547088623047, 0.8971071243286133]\n"
     ]
    }
   ],
   "source": [
    "\n",
    "w = random_tensor(10,2,init= 'Xavier')\n",
    "b = random_tensor(2,init='Xavier')\n",
    "print(w,b)"
   ]
  },
  {
   "cell_type": "code",
   "execution_count": 6,
   "metadata": {},
   "outputs": [
    {
     "name": "stdout",
     "output_type": "stream",
     "text": [
      "0\n",
      "0.23261547088623047\n",
      "1\n",
      "0.8971071243286133\n"
     ]
    }
   ],
   "source": [
    "for o in range(2):\n",
    "    print(o)\n",
    "    print( b[o] )"
   ]
  },
  {
   "cell_type": "code",
   "execution_count": 4,
   "metadata": {},
   "outputs": [
    {
     "data": {
      "text/plain": [
       "[-2.70457108815511, -0.04611810048421222]"
      ]
     },
     "execution_count": 4,
     "metadata": {},
     "output_type": "execute_result"
    }
   ],
   "source": [
    "[dot([10,2], w[o]) + b[o] for o in range(2)]"
   ]
  },
  {
   "cell_type": "code",
   "execution_count": null,
   "metadata": {},
   "outputs": [],
   "source": []
  }
 ],
 "metadata": {
  "kernelspec": {
   "display_name": "my_cpp_env",
   "language": "python",
   "name": "python3"
  },
  "language_info": {
   "codemirror_mode": {
    "name": "ipython",
    "version": 3
   },
   "file_extension": ".py",
   "mimetype": "text/x-python",
   "name": "python",
   "nbconvert_exporter": "python",
   "pygments_lexer": "ipython3",
   "version": "3.12.3"
  }
 },
 "nbformat": 4,
 "nbformat_minor": 2
}
